{
 "cells": [
  {
   "cell_type": "markdown",
   "id": "35fa6ff4-ba5f-442f-8419-27f5f5157e02",
   "metadata": {},
   "source": [
    "# Commercial Buildings Energy Consumption Survey (CBECS)\n",
    "This is a starter notebook to start your work which makes integration ease."
   ]
  },
  {
   "cell_type": "markdown",
   "id": "f121a357-4b8d-4d7d-9168-3f2fb2a5a12a",
   "metadata": {},
   "source": [
    "## 1. Import packages"
   ]
  },
  {
   "cell_type": "code",
   "execution_count": 3,
   "id": "a866d24a-9728-497d-9a41-af8d3d137f95",
   "metadata": {},
   "outputs": [],
   "source": [
    "import numpy as np\n",
    "import pandas as pd\n",
    "import os"
   ]
  },
  {
   "cell_type": "markdown",
   "id": "03b1578f-ecc4-4eea-ad9e-095e774bfc4c",
   "metadata": {},
   "source": [
    "## 2. Load dataset"
   ]
  },
  {
   "cell_type": "code",
   "execution_count": 7,
   "id": "026d04a5-321a-4fb6-b323-d957e0c4a52e",
   "metadata": {},
   "outputs": [],
   "source": [
    "data = pd.read_csv(\"../datasets/cbecs2018_final_public.csv\") # this var can be used by all but strictly make no changes to this varaible"
   ]
  },
  {
   "cell_type": "markdown",
   "id": "87d23fe3-4ec1-410e-ae11-7fe36bcf2646",
   "metadata": {},
   "source": [
    "## 3. Doing EDA\n",
    "use class def to handle EDAs. For one EDA one class"
   ]
  },
  {
   "cell_type": "code",
   "execution_count": 8,
   "id": "0d6f358b-e274-45ad-8c55-e4545d591337",
   "metadata": {},
   "outputs": [],
   "source": [
    "class SampleEDA:\n",
    "\n",
    "    def __init__(self, data):\n",
    "        self.data = data.copy()\n",
    "\n",
    "    def _preprocess_data(self):\n",
    "        # do the data pre processing here and save it to self.data. please feel free to add your own arguments/ parameters\n",
    "        pass\n",
    "\n",
    "    def _plot(self):\n",
    "        # the function to plot your charts or store them into a folder\n",
    "        pass"
   ]
  },
  {
   "cell_type": "code",
   "execution_count": 9,
   "id": "45240a2c-3566-4940-b816-c4ddc9bad19a",
   "metadata": {},
   "outputs": [
    {
     "ename": "AttributeError",
     "evalue": "'SampleEDA' object has no attribute 'delete'",
     "output_type": "error",
     "traceback": [
      "\u001b[0;31m---------------------------------------------------------------------------\u001b[0m",
      "\u001b[0;31mAttributeError\u001b[0m                            Traceback (most recent call last)",
      "Cell \u001b[0;32mIn[9], line 9\u001b[0m\n\u001b[1;32m      1\u001b[0m sEda \u001b[38;5;241m=\u001b[39m SampleEDA(data)\n\u001b[1;32m      2\u001b[0m \u001b[38;5;124;03m\"\"\"\u001b[39;00m\n\u001b[1;32m      3\u001b[0m \n\u001b[1;32m      4\u001b[0m \u001b[38;5;124;03myour codes\u001b[39;00m\n\u001b[1;32m      5\u001b[0m \n\u001b[1;32m      6\u001b[0m \n\u001b[1;32m      7\u001b[0m \u001b[38;5;124;03m\"\"\"\u001b[39;00m\n\u001b[0;32m----> 9\u001b[0m sEda\u001b[38;5;241m.\u001b[39mdelete()\n",
      "\u001b[0;31mAttributeError\u001b[0m: 'SampleEDA' object has no attribute 'delete'"
     ]
    }
   ],
   "source": [
    "sEda = SampleEDA(data)\n",
    "\"\"\"\n",
    "\n",
    "your codes\n",
    "\n",
    "\n",
    "\"\"\"\n",
    "\n",
    "del(sEda)"
   ]
  },
  {
   "cell_type": "code",
   "execution_count": null,
   "id": "1054bcff-76e3-4035-a2d9-29401a306024",
   "metadata": {},
   "outputs": [],
   "source": []
  }
 ],
 "metadata": {
  "kernelspec": {
   "display_name": "Python 3 (ipykernel)",
   "language": "python",
   "name": "python3"
  },
  "language_info": {
   "codemirror_mode": {
    "name": "ipython",
    "version": 3
   },
   "file_extension": ".py",
   "mimetype": "text/x-python",
   "name": "python",
   "nbconvert_exporter": "python",
   "pygments_lexer": "ipython3",
   "version": "3.11.7"
  }
 },
 "nbformat": 4,
 "nbformat_minor": 5
}
